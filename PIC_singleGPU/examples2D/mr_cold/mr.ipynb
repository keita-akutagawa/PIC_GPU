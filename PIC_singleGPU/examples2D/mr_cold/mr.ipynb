{
 "cells": [
  {
   "cell_type": "code",
   "execution_count": 1,
   "metadata": {
    "id": "YfnfM59RA2-W"
   },
   "outputs": [],
   "source": [
    "import numpy as np\n",
    "from scipy import stats\n",
    "import matplotlib.pyplot as plt\n",
    "import cv2"
   ]
  },
  {
   "cell_type": "code",
   "execution_count": 3,
   "metadata": {},
   "outputs": [],
   "source": [
    "filename = \"mr_mr8_cold.mp4\"\n",
    "pictures_dir = \"pictures_mr8_cold\"\n",
    "\n",
    "img = cv2.imread(f'./{pictures_dir}/0.png')\n",
    "framesize = (img.shape[1], img.shape[0])\n",
    "fps = 5.0\n",
    "\n",
    "fourcc = cv2.VideoWriter_fourcc('m','p','4','v')\n",
    "video  = cv2.VideoWriter(filename=filename, fourcc=fourcc, fps=fps, frameSize=framesize)\n",
    "\n",
    "for step in range(0, 48000+1, 1600):\n",
    "    img = cv2.imread(f'./{pictures_dir}/{step}.png')\n",
    "    video.write(img)\n",
    "video.release()"
   ]
  },
  {
   "cell_type": "code",
   "execution_count": null,
   "metadata": {},
   "outputs": [],
   "source": []
  }
 ],
 "metadata": {
  "colab": {
   "provenance": []
  },
  "kernelspec": {
   "display_name": "base",
   "language": "python",
   "name": "python3"
  },
  "language_info": {
   "codemirror_mode": {
    "name": "ipython",
    "version": 3
   },
   "file_extension": ".py",
   "mimetype": "text/x-python",
   "name": "python",
   "nbconvert_exporter": "python",
   "pygments_lexer": "ipython3",
   "version": "3.9.16"
  },
  "orig_nbformat": 4,
  "vscode": {
   "interpreter": {
    "hash": "6d11b7bbb64f1de9695c8577611914fee19d598429173be56ca2782175e3af79"
   }
  }
 },
 "nbformat": 4,
 "nbformat_minor": 0
}
