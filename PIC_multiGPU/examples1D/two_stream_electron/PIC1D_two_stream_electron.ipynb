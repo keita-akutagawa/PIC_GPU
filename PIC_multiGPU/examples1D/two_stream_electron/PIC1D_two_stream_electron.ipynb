{
 "cells": [
  {
   "cell_type": "code",
   "execution_count": 1,
   "metadata": {},
   "outputs": [],
   "source": [
    "import numpy as np\n",
    "import matplotlib.pyplot as plt\n",
    "import cv2"
   ]
  },
  {
   "cell_type": "code",
   "execution_count": 2,
   "metadata": {},
   "outputs": [
    {
     "name": "stdout",
     "output_type": "stream",
     "text": [
      "c * dt = 0.5 < dx = 1.0 \n",
      "\n",
      "total number of particle is 102400\n"
     ]
    }
   ],
   "source": [
    "c = 1.0\n",
    "epsilon0 = 1.0\n",
    "mu_0 = 1.0 / (epsilon0 * c**2)\n",
    "m_unit = 1.0\n",
    "r_m = 1/100\n",
    "t_r = 1/100\n",
    "m_electron = 1 * m_unit\n",
    "m_ion = m_electron / r_m\n",
    "r_q = 1.0\n",
    "T_e = 1/2 * m_electron * (0.01*c)**2\n",
    "T_i = T_e / t_r\n",
    "n_e = 100\n",
    "B0 = np.sqrt(n_e) / 10.0\n",
    "q_unit = np.sqrt(epsilon0 * T_e / n_e)\n",
    "q_electron = -1 * q_unit\n",
    "q_ion = r_q * q_unit\n",
    "n_i = int(n_e * np.abs(q_electron) / q_ion)\n",
    "omega_pe = np.sqrt(n_e * q_electron**2 / m_electron / epsilon0)\n",
    "omega_pi = np.sqrt(n_i * q_ion**2 / m_ion / epsilon0)\n",
    "omega_ce = q_electron * B0 / m_electron\n",
    "omega_ci = q_ion * B0 / m_ion\n",
    "V_A = c * np.sqrt(B0**2 / (n_e*m_electron + n_i*m_ion))\n",
    "C_S = np.sqrt(r_m * T_e)\n",
    "debye_length = np.sqrt(epsilon0 * T_e / n_e / q_electron**2)\n",
    "\n",
    "dx = debye_length\n",
    "n_x = 512\n",
    "x_max = n_x * dx\n",
    "x_coordinate = np.arange(0.0, x_max, dx)\n",
    "dt = 0.5\n",
    "step = 10000\n",
    "t_max = step * dt\n",
    "v_thermal_ion = np.sqrt(2.0 * T_i / m_ion)\n",
    "v_thermal_electron = np.sqrt(2.0 * T_e / m_electron)\n",
    "v_ion = np.array([0.0, 0.0, 0.0])\n",
    "v_electron = np.array([-10.0*v_thermal_ion, 0.0, 0.0])\n",
    "v_beam = np.array([10.0*v_thermal_ion, 0.0, 0.0])\n",
    "if c * dt > dx:\n",
    "    print(f\"You had better change some parameters! \\nCFL condition is not satisfied \\n c * dt = {c * dt} > dx = {dx} \\n\")\n",
    "else:\n",
    "    print(f'c * dt = {c * dt} < dx = {dx} \\n')\n",
    "\n",
    "if omega_pe * dt > 0.2:\n",
    "    print(f\"You had better change some parameters! \\n$\\omega$_pe * dt = {omega_pe * dt} > 0.1 \\n\")\n",
    "if round(dx, 5) != 1.0:\n",
    "    print(f\"You had better change some parameters! \\ndebye length = {debye_length} should be equal to grid size = {dx} \\n\")\n",
    "\n",
    "\n",
    "n_ion = int(n_x * n_i)\n",
    "n_electron = int(n_x * n_e / 2)\n",
    "n_beam = int(n_x * n_e / 2)\n",
    "print(f\"total number of particle is {n_ion + n_electron + n_beam}\")"
   ]
  },
  {
   "cell_type": "code",
   "execution_count": 3,
   "metadata": {},
   "outputs": [],
   "source": [
    "img = cv2.imread(f'./pictures_two_stream_electron/0.png')\n",
    "framesize = (img.shape[1], img.shape[0])\n",
    "fps = 10.0\n",
    "\n",
    "fourcc = cv2.VideoWriter_fourcc('m','p','4','v')\n",
    "video  = cv2.VideoWriter(filename=f'two_stream_electron.mp4', fourcc=fourcc, fps=fps, frameSize=framesize)\n",
    "\n",
    "for i in range(0, 10000+1, 100):\n",
    "    img = cv2.imread(f'./pictures_two_stream_electron/{i}.png')\n",
    "    video.write(img)\n",
    "video.release()"
   ]
  }
 ],
 "metadata": {
  "kernelspec": {
   "display_name": "Python 3",
   "language": "python",
   "name": "python3"
  },
  "language_info": {
   "codemirror_mode": {
    "name": "ipython",
    "version": 3
   },
   "file_extension": ".py",
   "mimetype": "text/x-python",
   "name": "python",
   "nbconvert_exporter": "python",
   "pygments_lexer": "ipython3",
   "version": "3.11.5"
  },
  "orig_nbformat": 4
 },
 "nbformat": 4,
 "nbformat_minor": 2
}
