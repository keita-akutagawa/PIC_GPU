{
  "cells": [
    {
      "cell_type": "code",
      "execution_count": 2,
      "metadata": {
        "id": "YfnfM59RA2-W"
      },
      "outputs": [],
      "source": [
        "import numpy as np"
      ]
    },
    {
      "cell_type": "code",
      "execution_count": 9,
      "metadata": {},
      "outputs": [
        {
          "name": "stdout",
          "output_type": "stream",
          "text": [
            "total number of particles is 49500000.\n",
            "omega_pe = 0.67, omega_ce = -0.70\n",
            "box size is 1500 X 750\n",
            "ion_inertial_length = 7.50, electron inertial length = 1.50\n",
            "re = 0.6708203932499369, ri = 1.6770509831248424, sheat_thickness = 7.50\n"
          ]
        }
      ],
      "source": [
        "c = 1.0\n",
        "epsilon0 = 1.0\n",
        "mu_0 = 1.0 / (epsilon0 * c**2)\n",
        "m_unit = 1.0\n",
        "r_m = 1 / 25\n",
        "m_electron = 1 * m_unit\n",
        "m_ion = m_electron / r_m\n",
        "t_r = 4.0 / 1.0\n",
        "r_q = 1.0\n",
        "n_e = 100 #ここは手動で調整すること\n",
        "B0 = np.sqrt(n_e) / 1.5 / np.sqrt(2 / (1 + t_r))\n",
        "n_i = int(n_e / r_q)\n",
        "T_i  = (B0**2 / 2.0 / mu_0) / (n_i + n_e * t_r)\n",
        "T_e = T_i * t_r\n",
        "q_unit = np.sqrt(epsilon0 * T_e / n_e) \n",
        "q_electron = -1 * q_unit\n",
        "q_ion = r_q * q_unit\n",
        "debye_length = np.sqrt(epsilon0 * T_e / n_e / q_electron**2)\n",
        "omega_pe = np.sqrt(n_e * q_electron**2 / m_electron / epsilon0)\n",
        "omega_pi = np.sqrt(n_i * q_ion**2 / m_ion / epsilon0)\n",
        "omega_ce = q_electron * B0 / m_electron\n",
        "omega_ci = q_ion * B0 / m_ion\n",
        "ion_inertial_length = c / omega_pi\n",
        "electron_inertial_length = c / omega_pe\n",
        "sheat_thickness = 1.0 * ion_inertial_length\n",
        "v_electron = np.array([0.0, 0.0, c * debye_length / sheat_thickness * np.sqrt(2 / (1.0 + 1 / t_r))])\n",
        "v_ion = -v_electron / t_r\n",
        "v_thermal_electron = np.sqrt(2.0 * T_e / m_electron)\n",
        "v_thermal_ion = np.sqrt(2.0 * T_i / m_ion)\n",
        "v_thermal_electron_background = np.sqrt(2.0 * T_e * 0.2 / m_electron)\n",
        "v_thermal_ion_background = np.sqrt(2.0 * T_i * 0.2 / m_ion)\n",
        "V_Ai = B0 / np.sqrt(mu_0 * n_i * m_ion)\n",
        "V_Ae = B0 / np.sqrt(mu_0 * n_e * m_electron)\n",
        "beta_e = n_e * T_e / (B0**2 / 2 / mu_0)\n",
        "beta_i = n_i * T_i / (B0**2 / 2 / mu_0)\n",
        "r_i = np.abs(m_ion * v_thermal_ion / q_ion / (2 * B0))\n",
        "r_e = np.abs(m_electron * v_thermal_electron / q_electron / (2 * B0))\n",
        "\n",
        "dx = 1.0\n",
        "dy = 1.0\n",
        "n_x = int(ion_inertial_length * 200.0)\n",
        "n_y = int(ion_inertial_length * 100.0)\n",
        "x_min = 0.0 * dx\n",
        "y_min = 0.0 * dy\n",
        "x_max = n_x * dx\n",
        "y_max = n_y * dy\n",
        "x_coordinate = np.arange(0.0, x_max, dx)\n",
        "y_coordinate = np.arange(0.0, y_max, dy)\n",
        "dt = 0.5\n",
        "step = 10000\n",
        "t_max = step * dt\n",
        "\n",
        "n_ion = int(n_x * n_i * 2.0 * sheat_thickness)\n",
        "n_electron = int(n_ion * abs(q_ion / q_electron))\n",
        "n_ion_background = int(n_x * n_y * 0.2 * n_i)\n",
        "n_electron_background = int(n_x * n_y * 0.2 * n_e)\n",
        "n_particle = n_ion + n_ion_background + n_electron + n_electron_background\n",
        "print(f\"total number of particles is {n_particle}.\")\n",
        "print(f\"omega_pe = {omega_pe:.2f}, omega_ce = {omega_ce:.2f}\")\n",
        "print(f\"box size is {n_x} X {n_y}\")\n",
        "print(f\"ion_inertial_length = {ion_inertial_length:.2f}, electron inertial length = {electron_inertial_length:.2f}\")\n",
        "print(f\"re = {r_e}, ri = {r_i}, sheat_thickness = {sheat_thickness:.2f}\")"
      ]
    },
    {
      "cell_type": "code",
      "execution_count": 8,
      "metadata": {},
      "outputs": [
        {
          "data": {
            "text/plain": [
              "12.649110640673516"
            ]
          },
          "execution_count": 8,
          "metadata": {},
          "output_type": "execute_result"
        }
      ],
      "source": [
        "c/V_Ai"
      ]
    },
    {
      "cell_type": "code",
      "execution_count": null,
      "metadata": {},
      "outputs": [],
      "source": []
    }
  ],
  "metadata": {
    "colab": {
      "provenance": []
    },
    "kernelspec": {
      "display_name": "base",
      "language": "python",
      "name": "python3"
    },
    "language_info": {
      "codemirror_mode": {
        "name": "ipython",
        "version": 3
      },
      "file_extension": ".py",
      "mimetype": "text/x-python",
      "name": "python",
      "nbconvert_exporter": "python",
      "pygments_lexer": "ipython3",
      "version": "3.9.16"
    },
    "orig_nbformat": 4,
    "vscode": {
      "interpreter": {
        "hash": "6d11b7bbb64f1de9695c8577611914fee19d598429173be56ca2782175e3af79"
      }
    }
  },
  "nbformat": 4,
  "nbformat_minor": 0
}
